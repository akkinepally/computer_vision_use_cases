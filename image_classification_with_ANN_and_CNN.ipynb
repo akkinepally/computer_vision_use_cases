{
  "nbformat": 4,
  "nbformat_minor": 0,
  "metadata": {
    "colab": {
      "name": "image_classification_with_ANN_and_CNN.ipynb",
      "provenance": [],
      "authorship_tag": "ABX9TyPx55l1VTOVRE+IkH+ZgGAm",
      "include_colab_link": true
    },
    "kernelspec": {
      "name": "python3",
      "display_name": "Python 3"
    },
    "accelerator": "GPU"
  },
  "cells": [
    {
      "cell_type": "markdown",
      "metadata": {
        "id": "view-in-github",
        "colab_type": "text"
      },
      "source": [
        "<a href=\"https://colab.research.google.com/github/akkinepally/computer_vision_use_cases/blob/main/image_classification_with_ANN_and_CNN.ipynb\" target=\"_parent\"><img src=\"https://colab.research.google.com/assets/colab-badge.svg\" alt=\"Open In Colab\"/></a>"
      ]
    },
    {
      "cell_type": "markdown",
      "metadata": {
        "id": "1ge1eV4O7p6W"
      },
      "source": [
        "# Import libraries"
      ]
    },
    {
      "cell_type": "code",
      "metadata": {
        "id": "E2plYUXG7EX7"
      },
      "source": [
        "import tensorflow as tf\r\n",
        "from tensorflow.keras import datasets, layers, models\r\n",
        "import matplotlib.pyplot as plt \r\n",
        "import numpy as np \r\n",
        "from sklearn.metrics import confusion_matrix, classification_report\r\n"
      ],
      "execution_count": null,
      "outputs": []
    },
    {
      "cell_type": "markdown",
      "metadata": {
        "id": "Mcto7EJ37w3B"
      },
      "source": [
        "# Load Data"
      ]
    },
    {
      "cell_type": "code",
      "metadata": {
        "colab": {
          "base_uri": "https://localhost:8080/"
        },
        "id": "QRu9hZzk7wA4",
        "outputId": "42b8af44-5721-44fe-fac9-adc6f07a533e"
      },
      "source": [
        "(x_train, y_train), (x_test, y_test) = datasets.cifar10.load_data()"
      ],
      "execution_count": null,
      "outputs": [
        {
          "output_type": "stream",
          "text": [
            "Downloading data from https://www.cs.toronto.edu/~kriz/cifar-10-python.tar.gz\n",
            "170500096/170498071 [==============================] - 3s 0us/step\n"
          ],
          "name": "stdout"
        }
      ]
    },
    {
      "cell_type": "markdown",
      "metadata": {
        "id": "8Ok9IHVU_tlh"
      },
      "source": [
        "# Exploratory Data Analysis"
      ]
    },
    {
      "cell_type": "code",
      "metadata": {
        "colab": {
          "base_uri": "https://localhost:8080/"
        },
        "id": "0djovKmo8Fbx",
        "outputId": "49787a07-5d20-4004-f17b-cadae1a93a97"
      },
      "source": [
        "def get_the_shape(data, name):\r\n",
        "  print(\"The shape of {} is {}\".format(name, data.shape))\r\n",
        "\r\n",
        "get_the_shape(x_train, \"x_train\")\r\n",
        "\r\n",
        "get_the_shape(y_train, \"y_train\")\r\n",
        "\r\n",
        "get_the_shape(x_test, \"x_test\")\r\n",
        "\r\n",
        "get_the_shape(y_test, \"y_test\")\r\n",
        "\r\n"
      ],
      "execution_count": null,
      "outputs": [
        {
          "output_type": "stream",
          "text": [
            "The shape of x_train is (50000, 32, 32, 3)\n",
            "The shape of y_train is (50000, 1)\n",
            "The shape of x_test is (10000, 32, 32, 3)\n",
            "The shape of y_test is (10000, 1)\n"
          ],
          "name": "stdout"
        }
      ]
    },
    {
      "cell_type": "code",
      "metadata": {
        "colab": {
          "base_uri": "https://localhost:8080/"
        },
        "id": "sJy-qS5pBdf9",
        "outputId": "fdd818cb-29fd-43dc-9101-f23da7e1f68c"
      },
      "source": [
        "y_train[:5]\r\n",
        "y_train = y_train.reshape(-1)\r\n",
        "y_train[:5]"
      ],
      "execution_count": null,
      "outputs": [
        {
          "output_type": "execute_result",
          "data": {
            "text/plain": [
              "array([6, 9, 9, 4, 1], dtype=uint8)"
            ]
          },
          "metadata": {
            "tags": []
          },
          "execution_count": 4
        }
      ]
    },
    {
      "cell_type": "code",
      "metadata": {
        "id": "sGcqoWMcB-hN"
      },
      "source": [
        "classes = [\"airplane\", \"automobile\", \"bird\", \"cat\", \"deer\", \"dog\", \"frog\", \"horse\", \"ship\", \"truck\"]"
      ],
      "execution_count": null,
      "outputs": []
    },
    {
      "cell_type": "code",
      "metadata": {
        "colab": {
          "base_uri": "https://localhost:8080/",
          "height": 173
        },
        "id": "TemcTOOxAVUm",
        "outputId": "24e47c0e-0b4d-45c4-8ccc-bd10b1dd6f35"
      },
      "source": [
        "# plot the images \r\n",
        "\r\n",
        "def plot_images(x, y, index):\r\n",
        "  plt.figure(figsize= (15, 2))\r\n",
        "  plt.xlabel(classes[y[index]])\r\n",
        "  plt.imshow(x[index])\r\n",
        "\r\n",
        "\r\n",
        "plot_images(x_train,y_train,9)"
      ],
      "execution_count": null,
      "outputs": [
        {
          "output_type": "display_data",
          "data": {
            "image/png": "[encoded data removed]",
            "text/plain": [
              "<Figure size 1080x144 with 1 Axes>"
            ]
          },
          "metadata": {
            "tags": [],
            "needs_background": "light"
          }
        }
      ]
    },
    {
      "cell_type": "markdown",
      "metadata": {
        "id": "nFIUebdiEcpT"
      },
      "source": [
        "# Data Preprocessing "
      ]
    },
    {
      "cell_type": "code",
      "metadata": {
        "id": "4Rrlbim5Eadz"
      },
      "source": [
        "x_train = x_train / 255\r\n",
        "x_test = x_test / 255"
      ],
      "execution_count": null,
      "outputs": []
    },
    {
      "cell_type": "markdown",
      "metadata": {
        "id": "zMkrAOpnErnq"
      },
      "source": [
        "# ANN Model building \r\n"
      ]
    },
    {
      "cell_type": "code",
      "metadata": {
        "colab": {
          "base_uri": "https://localhost:8080/"
        },
        "id": "RhO9htXOCfDS",
        "outputId": "2447ccc5-cae5-43cf-a99b-6b74384b9ec6"
      },
      "source": [
        "ann = models.Sequential([\r\n",
        "      layers.Flatten(input_shape=(32, 32, 3)), \r\n",
        "      layers.Dense(3000, activation = 'relu'), \r\n",
        "      layers.Dense(1000, activation = 'relu'),\r\n",
        "      layers.Dense(10, activation='sigmoid')\r\n",
        "])\r\n",
        "ann.compile(optimizer = 'SGD', loss = 'sparse_categorical_crossentropy', metrics = ['accuracy'])\r\n",
        "ann.fit(x_train, y_train, epochs = 5)"
      ],
      "execution_count": null,
      "outputs": [
        {
          "output_type": "stream",
          "text": [
            "Epoch 1/5\n",
            "1563/1563 [==============================] - 6s 3ms/step - loss: 1.9326 - accuracy: 0.3051\n",
            "Epoch 2/5\n",
            "1563/1563 [==============================] - 4s 3ms/step - loss: 1.6415 - accuracy: 0.4200\n",
            "Epoch 3/5\n",
            "1563/1563 [==============================] - 4s 3ms/step - loss: 1.5551 - accuracy: 0.4535\n",
            "Epoch 4/5\n",
            "1563/1563 [==============================] - 4s 3ms/step - loss: 1.4981 - accuracy: 0.4746\n",
            "Epoch 5/5\n",
            "1563/1563 [==============================] - 4s 3ms/step - loss: 1.4397 - accuracy: 0.4912\n"
          ],
          "name": "stdout"
        },
        {
          "output_type": "execute_result",
          "data": {
            "text/plain": [
              "<tensorflow.python.keras.callbacks.History at 0x7fcf301e7710>"
            ]
          },
          "metadata": {
            "tags": []
          },
          "execution_count": 8
        }
      ]
    },
    {
      "cell_type": "markdown",
      "metadata": {
        "id": "pSbL121-6gSW"
      },
      "source": [
        "# Model Evaluation\r\n"
      ]
    },
    {
      "cell_type": "code",
      "metadata": {
        "colab": {
          "base_uri": "https://localhost:8080/"
        },
        "id": "-kRCuhKvGhoy",
        "outputId": "c4955437-2760-48e9-8dd7-4126496da1e0"
      },
      "source": [
        "ann.evaluate(x_test, y_test)"
      ],
      "execution_count": null,
      "outputs": [
        {
          "output_type": "stream",
          "text": [
            "313/313 [==============================] - 1s 2ms/step - loss: 1.4521 - accuracy: 0.4787\n"
          ],
          "name": "stdout"
        },
        {
          "output_type": "execute_result",
          "data": {
            "text/plain": [
              "[1.4521430730819702, 0.47870001196861267]"
            ]
          },
          "metadata": {
            "tags": []
          },
          "execution_count": 9
        }
      ]
    },
    {
      "cell_type": "code",
      "metadata": {
        "colab": {
          "base_uri": "https://localhost:8080/"
        },
        "id": "cGudkwmPHBuu",
        "outputId": "876a7d11-478b-4800-c299-2234d456de35"
      },
      "source": [
        "\r\n",
        "y_pred = ann.predict(x_test)\r\n",
        "y_pred_class = [np.argmax(element) for element in y_pred ]\r\n",
        "\r\n",
        "print(\"Classification report: \\n\" , classification_report(y_test, y_pred_class))"
      ],
      "execution_count": null,
      "outputs": [
        {
          "output_type": "stream",
          "text": [
            "Classification report: \n",
            "               precision    recall  f1-score   support\n",
            "\n",
            "           0       0.54      0.56      0.55      1000\n",
            "           1       0.65      0.52      0.58      1000\n",
            "           2       0.39      0.31      0.35      1000\n",
            "           3       0.33      0.33      0.33      1000\n",
            "           4       0.59      0.20      0.30      1000\n",
            "           5       0.31      0.50      0.38      1000\n",
            "           6       0.48      0.62      0.54      1000\n",
            "           7       0.62      0.45      0.52      1000\n",
            "           8       0.61      0.62      0.62      1000\n",
            "           9       0.48      0.68      0.56      1000\n",
            "\n",
            "    accuracy                           0.48     10000\n",
            "   macro avg       0.50      0.48      0.47     10000\n",
            "weighted avg       0.50      0.48      0.47     10000\n",
            "\n"
          ],
          "name": "stdout"
        }
      ]
    },
    {
      "cell_type": "markdown",
      "metadata": {
        "id": "ngrGmi1r61W3"
      },
      "source": [
        "# CNN Model Building"
      ]
    },
    {
      "cell_type": "code",
      "metadata": {
        "id": "400s2kCh60SX"
      },
      "source": [
        "cnn = models.Sequential([\r\n",
        "                        layers.Conv2D(filters = 32, kernel_size=(3,3), activation='relu', input_shape=(32,32,3)),\r\n",
        "                         layers.MaxPooling2D((2,2)),\r\n",
        "                         layers.Flatten(),\r\n",
        "                         layers.Dense(64, activation='relu'),\r\n",
        "                         layers.Dense(10, activation = 'softmax')\r\n",
        "      \r\n",
        "])"
      ],
      "execution_count": null,
      "outputs": []
    },
    {
      "cell_type": "code",
      "metadata": {
        "id": "nmJ9uX5v81de"
      },
      "source": [
        "cnn.compile(optimizer= 'adam', loss = 'sparse_categorical_crossentropy',metrics = ['accuracy'])"
      ],
      "execution_count": null,
      "outputs": []
    },
    {
      "cell_type": "code",
      "metadata": {
        "colab": {
          "base_uri": "https://localhost:8080/"
        },
        "id": "705GjCA29V-X",
        "outputId": "78cf7405-0ef5-433f-8673-5a5393ef7923"
      },
      "source": [
        "cnn.fit(x_train, y_train, epochs = 10)"
      ],
      "execution_count": null,
      "outputs": [
        {
          "output_type": "stream",
          "text": [
            "Epoch 1/10\n",
            "1563/1563 [==============================] - 4s 2ms/step - loss: 1.7456 - accuracy: 0.3705\n",
            "Epoch 2/10\n",
            "1563/1563 [==============================] - 4s 2ms/step - loss: 1.2685 - accuracy: 0.5526\n",
            "Epoch 3/10\n",
            "1563/1563 [==============================] - 4s 2ms/step - loss: 1.1463 - accuracy: 0.5978\n",
            "Epoch 4/10\n",
            "1563/1563 [==============================] - 4s 2ms/step - loss: 1.0638 - accuracy: 0.6277\n",
            "Epoch 5/10\n",
            "1563/1563 [==============================] - 4s 3ms/step - loss: 1.0040 - accuracy: 0.6476\n",
            "Epoch 6/10\n",
            "1563/1563 [==============================] - 4s 3ms/step - loss: 0.9541 - accuracy: 0.6649\n",
            "Epoch 7/10\n",
            "1563/1563 [==============================] - 4s 2ms/step - loss: 0.9077 - accuracy: 0.6840\n",
            "Epoch 8/10\n",
            "1563/1563 [==============================] - 4s 2ms/step - loss: 0.8710 - accuracy: 0.6965\n",
            "Epoch 9/10\n",
            "1563/1563 [==============================] - 4s 2ms/step - loss: 0.8396 - accuracy: 0.7086\n",
            "Epoch 10/10\n",
            "1563/1563 [==============================] - 4s 2ms/step - loss: 0.8042 - accuracy: 0.7228\n"
          ],
          "name": "stdout"
        },
        {
          "output_type": "execute_result",
          "data": {
            "text/plain": [
              "<tensorflow.python.keras.callbacks.History at 0x7fcee41741d0>"
            ]
          },
          "metadata": {
            "tags": []
          },
          "execution_count": 15
        }
      ]
    },
    {
      "cell_type": "markdown",
      "metadata": {
        "id": "5kKojAqjM3JR"
      },
      "source": [
        "# CNN Model Evaluation"
      ]
    },
    {
      "cell_type": "code",
      "metadata": {
        "colab": {
          "base_uri": "https://localhost:8080/"
        },
        "id": "WEoalOPL98VW",
        "outputId": "9d6fb81c-535c-4227-8dd8-9cccd23c32af"
      },
      "source": [
        "cnn.evaluate(x_train, y_train)"
      ],
      "execution_count": null,
      "outputs": [
        {
          "output_type": "stream",
          "text": [
            "1563/1563 [==============================] - 3s 2ms/step - loss: 0.7314 - accuracy: 0.7483\n"
          ],
          "name": "stdout"
        },
        {
          "output_type": "execute_result",
          "data": {
            "text/plain": [
              "[0.7314090132713318, 0.7483400106430054]"
            ]
          },
          "metadata": {
            "tags": []
          },
          "execution_count": 16
        }
      ]
    },
    {
      "cell_type": "code",
      "metadata": {
        "colab": {
          "base_uri": "https://localhost:8080/"
        },
        "id": "bUh6EZqP-GYm",
        "outputId": "2bfb5f48-3b9c-46e5-cddb-0a9a843a1887"
      },
      "source": [
        "y_pred = cnn.predict(x_test)\r\n",
        "y_pred_class = [np.argmax(element) for element in y_pred ]\r\n",
        "\r\n",
        "print(\"Classification report: \\n\" , classification_report(y_test, y_pred_class))"
      ],
      "execution_count": null,
      "outputs": [
        {
          "output_type": "stream",
          "text": [
            "Classification report: \n",
            "               precision    recall  f1-score   support\n",
            "\n",
            "           0       0.73      0.64      0.68      1000\n",
            "           1       0.74      0.78      0.76      1000\n",
            "           2       0.54      0.44      0.49      1000\n",
            "           3       0.43      0.52      0.47      1000\n",
            "           4       0.55      0.64      0.59      1000\n",
            "           5       0.62      0.47      0.54      1000\n",
            "           6       0.68      0.75      0.71      1000\n",
            "           7       0.73      0.71      0.72      1000\n",
            "           8       0.73      0.79      0.76      1000\n",
            "           9       0.75      0.72      0.74      1000\n",
            "\n",
            "    accuracy                           0.65     10000\n",
            "   macro avg       0.65      0.65      0.65     10000\n",
            "weighted avg       0.65      0.65      0.65     10000\n",
            "\n"
          ],
          "name": "stdout"
        }
      ]
    },
    {
      "cell_type": "code",
      "metadata": {
        "id": "UGghcLSiL9tp"
      },
      "source": [
        "y_test = y_test.reshape(-1,)"
      ],
      "execution_count": null,
      "outputs": []
    },
    {
      "cell_type": "code",
      "metadata": {
        "colab": {
          "base_uri": "https://localhost:8080/",
          "height": 173
        },
        "id": "ia5afoPfMGR9",
        "outputId": "472529c3-8847-49ea-d96f-2dfe423003a4"
      },
      "source": [
        "plot_images(x_test, y_test, 1)"
      ],
      "execution_count": null,
      "outputs": [
        {
          "output_type": "display_data",
          "data": {
            "image/png": "[encoded data removed]",
            "text/plain": [
              "<Figure size 1080x144 with 1 Axes>"
            ]
          },
          "metadata": {
            "tags": [],
            "needs_background": "light"
          }
        }
      ]
    },
    {
      "cell_type": "code",
      "metadata": {
        "colab": {
          "base_uri": "https://localhost:8080/"
        },
        "id": "HpxaBCHlMMfp",
        "outputId": "749e9f28-4a74-4545-da21-1eeb8ebbc2c4"
      },
      "source": [
        "y_pred = cnn.predict(x_test)\r\n",
        "y_pred[:5]"
      ],
      "execution_count": null,
      "outputs": [
        {
          "output_type": "execute_result",
          "data": {
            "text/plain": [
              "array([[2.53885658e-03, 2.59256398e-04, 4.35340172e-03, 8.26749980e-01,\n",
              "        3.58037371e-03, 4.32348885e-02, 1.86787117e-02, 2.48443626e-04,\n",
              "        9.97858271e-02, 5.70184086e-04],\n",
              "       [1.43880001e-03, 3.61144394e-01, 4.56864336e-06, 3.73363969e-06,\n",
              "        2.57847660e-06, 7.17115469e-08, 2.53924782e-07, 1.25376518e-08,\n",
              "        6.34851694e-01, 2.55392399e-03],\n",
              "       [3.87444764e-01, 3.28570977e-02, 6.29346212e-03, 4.36451659e-03,\n",
              "        2.57425453e-03, 8.32899459e-05, 1.37340641e-04, 2.34131949e-04,\n",
              "        5.04020870e-01, 6.19903170e-02],\n",
              "       [4.76973325e-01, 1.72650050e-02, 1.83099106e-01, 4.51956876e-02,\n",
              "        6.16981350e-02, 7.51932675e-04, 3.93204130e-02, 7.79026712e-04,\n",
              "        1.66720659e-01, 8.19678698e-03],\n",
              "       [1.17362795e-07, 7.88635516e-04, 1.85244193e-03, 9.69009623e-02,\n",
              "        3.92545879e-01, 3.49301822e-03, 5.04352391e-01, 7.08070502e-07,\n",
              "        5.96201135e-05, 6.22804691e-06]], dtype=float32)"
            ]
          },
          "metadata": {
            "tags": []
          },
          "execution_count": 22
        }
      ]
    },
    {
      "cell_type": "code",
      "metadata": {
        "colab": {
          "base_uri": "https://localhost:8080/"
        },
        "id": "zZgk-8IAMcQR",
        "outputId": "3a6abd6d-8538-425c-98c4-4f46838d2e4a"
      },
      "source": [
        "y_pred_class =  [np.argmax(element) for element in y_pred]\r\n",
        "y_pred_class[:5]"
      ],
      "execution_count": null,
      "outputs": [
        {
          "output_type": "execute_result",
          "data": {
            "text/plain": [
              "[3, 8, 8, 0, 6]"
            ]
          },
          "metadata": {
            "tags": []
          },
          "execution_count": 24
        }
      ]
    },
    {
      "cell_type": "code",
      "metadata": {
        "colab": {
          "base_uri": "https://localhost:8080/",
          "height": 35
        },
        "id": "1Z7vHVBPMqh3",
        "outputId": "d5968af9-fd07-497e-8dad-ae462a9e5941"
      },
      "source": [
        "classes[y_pred_class[1]]"
      ],
      "execution_count": null,
      "outputs": [
        {
          "output_type": "execute_result",
          "data": {
            "application/vnd.google.colaboratory.intrinsic+json": {
              "type": "string"
            },
            "text/plain": [
              "'ship'"
            ]
          },
          "metadata": {
            "tags": []
          },
          "execution_count": 25
        }
      ]
    }
  ]
}